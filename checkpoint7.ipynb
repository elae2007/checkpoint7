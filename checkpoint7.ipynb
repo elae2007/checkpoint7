{
 "cells": [
  {
   "cell_type": "markdown",
   "id": "85ef90b9",
   "metadata": {},
   "source": [
    "# check  point 7:"
   ]
  },
  {
   "cell_type": "markdown",
   "id": "37d79ffc",
   "metadata": {},
   "source": [
    "1) Write a Python program to read an entire text file."
   ]
  },
  {
   "cell_type": "code",
   "execution_count": 4,
   "id": "7d6d2f4c",
   "metadata": {},
   "outputs": [
    {
     "data": {
      "text/plain": [
       "'What is Python language?                                                \\nPython is a widely used high-level, general-purpose, interpreted, dynamic programming language.Its design philosophy emphasizes code readability, and its syntax allows programmers to express concepts in fewer lines of code than possible in \\nlanguages such as C++ or Java. \\nPython supports multiple programming paradigms, including object-oriented, imperative and functional programming or procedural styles. It features a dynamic type system and automatic memory management and has a large and comprehensive standard library.The best way we learn anything is by practice and exercise questions. We  have started this section for those (beginner to intermediate) who are familiar with Python.'"
      ]
     },
     "execution_count": 4,
     "metadata": {},
     "output_type": "execute_result"
    }
   ],
   "source": [
    "f=open(\"python.txt\")\n",
    "f=open('python.txt',\"r\",encoding='utf-8')\n",
    "f.read()"
   ]
  },
  {
   "cell_type": "markdown",
   "id": "0909bddc",
   "metadata": {},
   "source": [
    "2)Write a Python program to read first n lines of a file."
   ]
  },
  {
   "cell_type": "code",
   "execution_count": 34,
   "id": "20582449",
   "metadata": {},
   "outputs": [
    {
     "data": {
      "text/plain": [
       "['What is Python language?                                                \\n']"
      ]
     },
     "execution_count": 34,
     "metadata": {},
     "output_type": "execute_result"
    }
   ],
   "source": [
    "f=open(\"python.txt\")\n",
    "f=open('python.txt',\"r\",encoding='utf-8')\n",
    "f.readlines(1)"
   ]
  },
  {
   "cell_type": "markdown",
   "id": "b5813e74",
   "metadata": {},
   "source": [
    "3)Write a Python program to read last n lines of a file"
   ]
  },
  {
   "cell_type": "code",
   "execution_count": 38,
   "id": "aceaeb23",
   "metadata": {},
   "outputs": [
    {
     "name": "stdout",
     "output_type": "stream",
     "text": [
      "['Python supports multiple programming paradigms, including object-oriented, imperative and functional programming or procedural styles. It features a dynamic type system and automatic memory management and has a large and comprehensive standard library.The best way we learn anything is by practice and exercise questions. We  have started this section for those (beginner to intermediate) who are familiar with Python.']\n"
     ]
    }
   ],
   "source": [
    "f=open(\"python.txt\")\n",
    "f=open('python.txt',\"r\",encoding='utf-8')\n",
    "last_lines=lines[-1:]\n",
    "lines = f.readlines()\n",
    "print(last_lines)"
   ]
  },
  {
   "cell_type": "markdown",
   "id": "9eef19c8",
   "metadata": {},
   "source": [
    "4)Write a Python program that takes a text file as input and returns the number of words of a given text file."
   ]
  },
  {
   "cell_type": "code",
   "execution_count": 43,
   "id": "9370bc32",
   "metadata": {},
   "outputs": [
    {
     "name": "stdout",
     "output_type": "stream",
     "text": [
      "input a file :elae wei\n"
     ]
    },
    {
     "data": {
      "text/plain": [
       "8"
      ]
     },
     "execution_count": 43,
     "metadata": {},
     "output_type": "execute_result"
    }
   ],
   "source": [
    "f=input(\"input a file :\")\n",
    "NumberOfLine =len(f)\n",
    "NumberOfLine\n"
   ]
  },
  {
   "cell_type": "markdown",
   "id": "34af3f5e",
   "metadata": {},
   "source": [
    "5)(bonus) Write a Python program to read last n lines of a file"
   ]
  },
  {
   "cell_type": "code",
   "execution_count": null,
   "id": "1accc1ee",
   "metadata": {},
   "outputs": [],
   "source": [
    "##"
   ]
  }
 ],
 "metadata": {
  "kernelspec": {
   "display_name": "Python 3",
   "language": "python",
   "name": "python3"
  },
  "language_info": {
   "codemirror_mode": {
    "name": "ipython",
    "version": 3
   },
   "file_extension": ".py",
   "mimetype": "text/x-python",
   "name": "python",
   "nbconvert_exporter": "python",
   "pygments_lexer": "ipython3",
   "version": "3.8.8"
  }
 },
 "nbformat": 4,
 "nbformat_minor": 5
}
